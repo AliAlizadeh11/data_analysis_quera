{
 "cells": [
  {
   "attachments": {},
   "cell_type": "markdown",
   "metadata": {
    "id": "rizeAPn-pe_s"
   },
   "source": [
    "<h1 align=center style=\"line-height:200%;font-family:vazir;color:#0099cc\">\n",
    "<font face=\"vazir\" color=\"#0099cc\">\n",
    "الماس‌های درخشان</font>\n",
    "</h1>\n"
   ]
  },
  {
   "attachments": {},
   "cell_type": "markdown",
   "metadata": {
    "id": "30vPDJVPSS7M"
   },
   "source": [
    "<p dir=rtl style=\"direction: rtl;text-align: justify;line-height:200%;font-family:vazir;font-size:medium\">\n",
    "<font face=\"vazir\" size=3>\n",
    "مجموعه‌داده‌ای در اختیار شما قرار گذاشته شده که حاوی اطلاعات تعدادی الماس است. در این بخش شما باید با رسم نمودار، اطلاعاتی از الماس‌ها را به‌صورت خلاصه و مفید به‌ تصویر بکشید.\n",
    "</font>\n",
    "</p>\n"
   ]
  },
  {
   "attachments": {},
   "cell_type": "markdown",
   "metadata": {},
   "source": [
    "<p dir=rtl style=\"direction: rtl;text-align: justify;line-height:200%;font-family:vazir;font-size:medium\">\n",
    "<font face=\"vazir\" size=3>\n",
    "در این تمرین هم از مت‌پلات و هم از سیبورن استفاده می‌کنیم.\n",
    "</font>\n",
    "</p>\n"
   ]
  },
  {
   "cell_type": "code",
   "execution_count": 4,
   "metadata": {
    "id": "N-yLpau-zRUn"
   },
   "outputs": [],
   "source": [
    "import pandas as pd\n",
    "import matplotlib.pyplot as plt\n",
    "import seaborn as sns"
   ]
  },
  {
   "cell_type": "markdown",
   "metadata": {},
   "source": [
    "<h2 align=right style=\"line-height:200%;font-family:vazir;color:#0099cc\">\n",
    "<font face=\"vazir\" color=\"#0099cc\">\n",
    "مجموعه‌داده\n",
    "</font>\n",
    "</h2>"
   ]
  },
  {
   "attachments": {},
   "cell_type": "markdown",
   "metadata": {
    "id": "eHt3PRb_SljP"
   },
   "source": [
    "\n",
    "\n",
    "\n",
    "<p dir=rtl style=\"direction: rtl;text-align: justify;line-height:200%;font-family:vazir;font-size:medium\">\n",
    "<font face=\"vazir\" size=3>\n",
    "اطلاعات الماس‌ها در فایل <code>diamonds.csv</code> ‌ذخیره شده است.\n",
    "</font>\n",
    "</p>\n",
    "\n"
   ]
  },
  {
   "cell_type": "code",
   "execution_count": 5,
   "metadata": {
    "id": "xKj8TbtizYMB"
   },
   "outputs": [
    {
     "data": {
      "text/html": [
       "<div>\n",
       "<style scoped>\n",
       "    .dataframe tbody tr th:only-of-type {\n",
       "        vertical-align: middle;\n",
       "    }\n",
       "\n",
       "    .dataframe tbody tr th {\n",
       "        vertical-align: top;\n",
       "    }\n",
       "\n",
       "    .dataframe thead th {\n",
       "        text-align: right;\n",
       "    }\n",
       "</style>\n",
       "<table border=\"1\" class=\"dataframe\">\n",
       "  <thead>\n",
       "    <tr style=\"text-align: right;\">\n",
       "      <th></th>\n",
       "      <th>carat</th>\n",
       "      <th>cut</th>\n",
       "      <th>color</th>\n",
       "      <th>clarity</th>\n",
       "      <th>depth</th>\n",
       "      <th>table</th>\n",
       "      <th>price</th>\n",
       "      <th>x</th>\n",
       "      <th>y</th>\n",
       "      <th>z</th>\n",
       "    </tr>\n",
       "  </thead>\n",
       "  <tbody>\n",
       "    <tr>\n",
       "      <th>1</th>\n",
       "      <td>0.23</td>\n",
       "      <td>Ideal</td>\n",
       "      <td>E</td>\n",
       "      <td>SI2</td>\n",
       "      <td>61.5</td>\n",
       "      <td>55.0</td>\n",
       "      <td>326</td>\n",
       "      <td>3.95</td>\n",
       "      <td>3.98</td>\n",
       "      <td>2.43</td>\n",
       "    </tr>\n",
       "    <tr>\n",
       "      <th>2</th>\n",
       "      <td>0.21</td>\n",
       "      <td>Premium</td>\n",
       "      <td>E</td>\n",
       "      <td>SI1</td>\n",
       "      <td>59.8</td>\n",
       "      <td>61.0</td>\n",
       "      <td>326</td>\n",
       "      <td>3.89</td>\n",
       "      <td>3.84</td>\n",
       "      <td>2.31</td>\n",
       "    </tr>\n",
       "    <tr>\n",
       "      <th>3</th>\n",
       "      <td>0.23</td>\n",
       "      <td>Good</td>\n",
       "      <td>E</td>\n",
       "      <td>VS1</td>\n",
       "      <td>56.9</td>\n",
       "      <td>65.0</td>\n",
       "      <td>327</td>\n",
       "      <td>4.05</td>\n",
       "      <td>4.07</td>\n",
       "      <td>2.31</td>\n",
       "    </tr>\n",
       "    <tr>\n",
       "      <th>4</th>\n",
       "      <td>0.29</td>\n",
       "      <td>Premium</td>\n",
       "      <td>I</td>\n",
       "      <td>VS2</td>\n",
       "      <td>62.4</td>\n",
       "      <td>58.0</td>\n",
       "      <td>334</td>\n",
       "      <td>4.20</td>\n",
       "      <td>4.23</td>\n",
       "      <td>2.63</td>\n",
       "    </tr>\n",
       "    <tr>\n",
       "      <th>5</th>\n",
       "      <td>0.31</td>\n",
       "      <td>Good</td>\n",
       "      <td>J</td>\n",
       "      <td>SI2</td>\n",
       "      <td>63.3</td>\n",
       "      <td>58.0</td>\n",
       "      <td>335</td>\n",
       "      <td>4.34</td>\n",
       "      <td>4.35</td>\n",
       "      <td>2.75</td>\n",
       "    </tr>\n",
       "  </tbody>\n",
       "</table>\n",
       "</div>"
      ],
      "text/plain": [
       "   carat      cut color clarity  depth  table  price     x     y     z\n",
       "1   0.23    Ideal     E     SI2   61.5   55.0    326  3.95  3.98  2.43\n",
       "2   0.21  Premium     E     SI1   59.8   61.0    326  3.89  3.84  2.31\n",
       "3   0.23     Good     E     VS1   56.9   65.0    327  4.05  4.07  2.31\n",
       "4   0.29  Premium     I     VS2   62.4   58.0    334  4.20  4.23  2.63\n",
       "5   0.31     Good     J     SI2   63.3   58.0    335  4.34  4.35  2.75"
      ]
     },
     "execution_count": 5,
     "metadata": {},
     "output_type": "execute_result"
    }
   ],
   "source": [
    "df = pd.read_csv('diamonds.csv',index_col=0)\n",
    "df.head()"
   ]
  },
  {
   "attachments": {},
   "cell_type": "markdown",
   "metadata": {},
   "source": [
    "<p dir=rtl style=\"direction: rtl;text-align: justify;line-height:200%;font-family:vazir;font-size:medium\">\n",
    "<font face=\"vazir\" size=3>\n",
    "در دیتافریم بالا، متغیرهای <code>depth</code> و <code>table</code> بر اساس طول و عرض و ارتفاع یک الماس محاسبه می‌شوند. برای آشنایی با آن‌ها می‌توانید به\n",
    " <a href=\"https://www.diamonds.pro/education/diamond-depth-and-table/\">این لینک</a>\n",
    " مراجعه کنید.\n",
    "متغیر <code>clarity</code> شفافیت یا پاکی الماس را با کد خاص نشان می‌دهد. برای آشنایی با این کد‌ها می‌توانید به \n",
    " <a href=\"https://www.bluenile.com/education/diamonds/clarity\">این لینک</a>\n",
    "مراجعه کنید.\n",
    "</font>\n",
    "</p>\n"
   ]
  },
  {
   "attachments": {},
   "cell_type": "markdown",
   "metadata": {
    "id": "tZ-PYtmJTneC"
   },
   "source": [
    "<h2 align=right style=\"line-height:200%;font-family:vazir;color:#0099cc\">\n",
    "<font face=\"vazir\" color=\"#0099cc\">\n",
    "کار با استایل‌ها\n",
    "</font>\n",
    "</h2>\n",
    "\n",
    "<p dir=rtl style=\"direction: rtl;text-align: justify;line-height:200%;font-family:vazir;font-size:medium\">\n",
    "<font face=\"vazir\" size=3>\n",
    "با استفاده از تابع <code>plt.style.use</code> می‌توان استایل مت‌پلات را عوض کرد. هنگام تغییر استایل، تنظیمات بسیاری از جمله رنگ زمینه، رنگ خطوط، رنگ و فونت نوشته‌ها و تنظیمات دیگری عوض می‌شوند و راه خوبی است تا بدون تغییر بسیاری از مقادیر پیش‌فرض، رنگ و لعاب اشکال خود را تغییر دهید. \n",
    "دقت کنید که باید پیش از کشیدن نمودار‌ها، استایل را تغییر دهید؛ پس از تغییر استایل، هر نموداری که می‌کشید با  استایل جدید کشیده می‌شود تا وقتی که استایل را دوباره عوض کنید.\n",
    "</font>\n",
    "</p>\n",
    "\n"
   ]
  },
  {
   "attachments": {},
   "cell_type": "markdown",
   "metadata": {
    "id": "XLUVmEP7bRPA"
   },
   "source": [
    "\n",
    "<h2 dir=rtl align=right style=\"line-height:200%;font-family:vazir;color:#0099cc\">\n",
    "<font face=\"vazir\" color=\"#0099cc\">\n",
    "بخش اول\n",
    "</font>\n",
    "</h2>\n",
    "<p dir=rtl align=right style=\"direction: rtl;text-align: justify;line-height:200%;font-family:vazir;font-size:medium\">\n",
    "<font face=\"vazir\" size=3>\n",
    "<ul dir=rtl style=\"direction: rtl;text-align: justify;line-height:200%;font-family:vazir;font-size:medium\">\n",
    "  <li>\n",
    "استایل را  <code>dark_background</code> قرار دهید.\n",
    "</li>\n",
    "\n",
    "  <li>\n",
    "با مت‌پلات، یک شکل شامل یک صفحه‌محور بسازید و اندازه‌ی طول و عرض آن را برابر با ۱۰ اینچ قرار دهید.\n",
    "</li>\n",
    "\n",
    "  <li>\n",
    "با استفاده از تابع <code>barplot</code> سیبورن، بر روی صفحه‌محوری که ساختید، یک نمودار میله‌ای بکشید. ورودی‌های این نمودار یک دیتافریم، متغیر محور ,<code>y</code>، متغیر محور <code>x</code> و متغیر <code>hue</code> می‌باشد.  \n",
    "</li>\n",
    "\n",
    "  <li>\n",
    "شما باید با توجه به شکل داده شده، پارامتر‌های <code>x</code> و <code>y</code> و <code>hue</code> را مقداردهی کنید.\n",
    "\n",
    "</li>\n",
    "\n",
    "<br>\n",
    "خروجی به شکل زیر می‌باشد:\n",
    "</font>\n",
    "</p>\n",
    "\n",
    "\n"
   ]
  },
  {
   "attachments": {},
   "cell_type": "markdown",
   "metadata": {},
   "source": [
    "<p style=\"text-align:center;\"><img src=\"fig1.png\" /></p>"
   ]
  },
  {
   "attachments": {},
   "cell_type": "markdown",
   "metadata": {},
   "source": [
    "<h3 align=right style=\"line-height:200%;font-family:vazir;color:#0099cc\">\n",
    "<font face=\"vazir\" color=\"#0099cc\">\n",
    "توضیح نمودار\n",
    "</font>\n",
    "</h3>\n",
    "<p dir=rtl style=\"direction: rtl;text-align: justify;line-height:200%;font-family:vazir;font-size:medium\">\n",
    "<font face=\"vazir\" size=3>\n",
    "در این نمودار، برای هر نوع برش الماس، قیمت آن مشخص شده است. خط سیاهی که در بالای هر میله قرار دارد، بازه‌ی اطمینان آن مقدار را نشان می‌دهد. قیمت‌های متفاوتی در یک نوع برش وجود دارد و  سیبورن مقدار متوسط آن‌ها را لحاظ می‌کند و با خط سیاه، میزان پراکندگی این مقادیر مشخص می‌شود. همچنین در هر برش، داده‌ها بر اساس شفافیت هم تقسیم شده‌اند. این‌ کار با کمک متغیر <code>hue</code> مشخص شده است.\n",
    "</font>\n",
    "</p>\n"
   ]
  },
  {
   "cell_type": "code",
   "execution_count": 6,
   "metadata": {
    "colab": {
     "base_uri": "https://localhost:8080/",
     "height": 626
    },
    "id": "aSuFamftzhju",
    "outputId": "3751cbcb-f058-4196-8431-bd3c4bdb0a9b"
   },
   "outputs": [
    {
     "data": {
      "text/plain": [
       "<Axes: xlabel='cut', ylabel='price'>"
      ]
     },
     "execution_count": 6,
     "metadata": {},
     "output_type": "execute_result"
    },
    {
     "data": {
      "image/png": "[encoded data removed]",
      "text/plain": [
       "<Figure size 1000x1000 with 1 Axes>"
      ]
     },
     "metadata": {},
     "output_type": "display_data"
    }
   ],
   "source": [
    "plt.style.use('dark_background')\n",
    "fig1 , axes1 = plt.subplots(figsize=(10, 10))\n",
    "sns.barplot(data = df, x = 'cut', y = 'price' , hue = 'color')\n"
   ]
  },
  {
   "attachments": {},
   "cell_type": "markdown",
   "metadata": {
    "id": "oKGtf0Cgl3-F"
   },
   "source": [
    "\n",
    "\n",
    "<h2 align=right style=\"line-height:200%;font-family:vazir;color:#0099cc\">\n",
    "<font face=\"vazir\" color=\"#0099cc\">\n",
    "کار با نمودار جعبه‌ای\n",
    "</font>\n",
    "</h2>\n",
    "<p dir=rtl style=\"direction: rtl;text-align: justify;line-height:200%;font-family:vazir;font-size:medium\">\n",
    "<font face=\"vazir\" size=3>\n",
    "نمودار جعبه‌ای یکی از روش‌های قدیمی برای نمایش توزیع داده و شناسایی داده‌های پرت می‌باشد.  برای رسم این نمودار به چارک اول و سوم و میانه‌ی داده‌ها نیاز است. حد بالا و پایین با ضرب یک ثابت در فاصله‌ی میان دو چارک محاسبه می‌شود و ثابت انتخابی، بستگی به نوع مسئله و نحوه‌ی پخش داده‌های پرت بستگی دارد.\n",
    "</font>\n",
    "</p>\n",
    "\n"
   ]
  },
  {
   "attachments": {},
   "cell_type": "markdown",
   "metadata": {
    "id": "oZUf2Psil5Q0"
   },
   "source": [
    "<p style=\"text-align:center;\"><img src=\"boxplot.png\"></p>\n"
   ]
  },
  {
   "attachments": {},
   "cell_type": "markdown",
   "metadata": {
    "id": "JqF2ctV6gZ6w"
   },
   "source": [
    "<h2 align=right style=\"line-height:200%;font-family:vazir;color:#0099cc\">\n",
    "<font face=\"vazir\" color=\"#0099cc\">\n",
    "قدم دوم</font>\n",
    "</h2>\n",
    "<p dir=rtl style=\"direction: rtl;text-align: justify;line-height:200%;font-family:vazir;font-size:medium\">\n",
    "<font face=\"vazir\" size=3>\n",
    "  <ul dir=rtl style=\"direction: rtl;text-align: justify;line-height:200%;font-family:vazir;font-size:medium\">\n",
    "  <li>\n",
    "  استایل را برابر را <code>ggplot</code> قرار دهید.\n",
    "  </li>\n",
    "\n",
    "  <li>\n",
    "  با مت‌پلات، یک شکل شامل یک صفحه‌محور بسازید و اندازه طول و عرض آن را برابر با ۱۰ اینچ قرار دهید.\n",
    "  </li>\n",
    "\n",
    "  <li>\n",
    "  با استفاده از تابع <code>boxplot</code> سیبورن، یک سری نمودار جعبه‌ای تولید کنید و بر روی صفحه‌محوری که ساخته‌اید رسم کنید. این‌ بار از ویژگی <code>hue</code> استفاده نمی‌کنیم و فقط دو متغیر را بررسی می کنیم.\n",
    "\n",
    "  </li>\n",
    "  <br>\n",
    "  خروجی به شکل زیر می‌باشد:\n",
    "</font>\n",
    "</p>\n"
   ]
  },
  {
   "attachments": {},
   "cell_type": "markdown",
   "metadata": {},
   "source": [
    "<p style=\"text-align:center;\"><img src=\"fig2.png\" /></p>"
   ]
  },
  {
   "attachments": {},
   "cell_type": "markdown",
   "metadata": {},
   "source": [
    "\n",
    "\n",
    "<h3 align=right style=\"line-height:200%;font-family:vazir;color:#0099cc\">\n",
    "<font face=\"vazir\" color=\"#0099cc\">\n",
    "توضیح نمودار</font>\n",
    "</h3>\n",
    "<p dir=rtl style=\"direction: rtl;text-align: justify;line-height:200%;font-family:vazir;font-size:medium\">\n",
    "<font face=\"vazir\" size=3>\n",
    "این‌‌بار با استفاده از نمودار جعبه‌ای رابطه‌ی بین شفافیت الماس و قیمت الماس مشخص شده است. برای هر نوع شفافیت یک نمودار جعبه‌ای کشیده شده است. \n",
    "</font>\n",
    "</p>\n",
    "\n",
    "\n"
   ]
  },
  {
   "cell_type": "code",
   "execution_count": 7,
   "metadata": {
    "colab": {
     "base_uri": "https://localhost:8080/",
     "height": 626
    },
    "id": "Q08I5VP21Hmk",
    "outputId": "3d116256-73ac-41cb-8b4d-348245c66f0b"
   },
   "outputs": [
    {
     "data": {
      "text/plain": [
       "<Axes: xlabel='clarity', ylabel='price'>"
      ]
     },
     "execution_count": 7,
     "metadata": {},
     "output_type": "execute_result"
    },
    {
     "data": {
      "image/png": "[encoded data removed]",
      "text/plain": [
       "<Figure size 1000x1000 with 1 Axes>"
      ]
     },
     "metadata": {},
     "output_type": "display_data"
    }
   ],
   "source": [
    "plt.style.use('ggplot')\n",
    "fig2 , axes2 = plt.subplots(figsize=(10, 10))\n",
    "sns.boxplot(data = df, x = 'clarity', y = 'price')"
   ]
  },
  {
   "attachments": {},
   "cell_type": "markdown",
   "metadata": {},
   "source": [
    "<h2 align=right style=\"line-height:200%;font-family:vazir;color:#0099cc\">\n",
    "<font face=\"vazir\" color=\"#0099cc\">\n",
    "<b>سلول جواب‌ساز</b>\n",
    "</font>\n",
    "</h2>\n",
    "\n",
    "\n",
    "<p dir=rtl style=\"direction: rtl; text-align: justify; line-height:200%; font-family:vazir; font-size:medium\">\n",
    "<font face=\"vazir\" size=3>\n",
    "    برای ساخته‌شدن فایل <code>result.zip</code> سلول زیر را اجرا کنید. توجه داشته باشید که پیش از اجرای سلول زیر تغییرات اعمال شده در نت‌بوک را ذخیره کرده باشید (<code>ctrl+s</code>) تا در صورت نیاز به پشتیبانی امکان بررسی کد شما وجود داشته باشد.\n",
    "</font>\n",
    "</p>"
   ]
  },
  {
   "cell_type": "code",
   "execution_count": 8,
   "metadata": {
    "id": "fbSahX6Rpckd"
   },
   "outputs": [
    {
     "name": "stdout",
     "output_type": "stream",
     "text": [
      "File Paths:\n",
      "['fig1', 'fig2', 'shiny_gems.ipynb']\n"
     ]
    }
   ],
   "source": [
    "import zlib\n",
    "import zipfile\n",
    "import joblib\n",
    "\n",
    "joblib.dump(fig1,\"fig1\")\n",
    "joblib.dump(fig2,\"fig2\")\n",
    "\n",
    "def compress(file_names):\n",
    "    print(\"File Paths:\")\n",
    "    print(file_names)\n",
    "    compression = zipfile.ZIP_DEFLATED\n",
    "    with zipfile.ZipFile(\"result.zip\", mode=\"w\") as zf:\n",
    "        for file_name in file_names:\n",
    "            zf.write('./' + file_name, file_name, compress_type=compression)\n",
    "\n",
    "file_names = [\"fig1\", \"fig2\", \"shiny_gems.ipynb\"]\n",
    "compress(file_names)"
   ]
  }
 ],
 "metadata": {
  "colab": {
   "collapsed_sections": [],
   "name": "mostafa.ipynb",
   "provenance": []
  },
  "kernelspec": {
   "display_name": "quearenv",
   "language": "python",
   "name": "quearenv"
  },
  "language_info": {
   "codemirror_mode": {
    "name": "ipython",
    "version": 3
   },
   "file_extension": ".py",
   "mimetype": "text/x-python",
   "name": "python",
   "nbconvert_exporter": "python",
   "pygments_lexer": "ipython3",
   "version": "3.9.7"
  },
  "vscode": {
   "interpreter": {
    "hash": "44e7e1b8fa2096bd5707ed7fd18b1724a2db25f4c565a7673f8b6e7bfc49d25d"
   }
  }
 },
 "nbformat": 4,
 "nbformat_minor": 4
}
